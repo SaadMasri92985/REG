{
 "cells": [
  {
   "cell_type": "code",
   "execution_count": 26,
   "metadata": {},
   "outputs": [
    {
     "name": "stdout",
     "output_type": "stream",
     "text": [
      "<class 'pandas.core.frame.DataFrame'>\n",
      "RangeIndex: 1338 entries, 0 to 1337\n",
      "Data columns (total 7 columns):\n",
      " #   Column    Non-Null Count  Dtype  \n",
      "---  ------    --------------  -----  \n",
      " 0   age       1338 non-null   int64  \n",
      " 1   sex       1338 non-null   object \n",
      " 2   bmi       1338 non-null   float64\n",
      " 3   children  1338 non-null   int64  \n",
      " 4   smoker    1338 non-null   object \n",
      " 5   region    1338 non-null   object \n",
      " 6   charges   1338 non-null   float64\n",
      "dtypes: float64(2), int64(2), object(3)\n",
      "memory usage: 73.3+ KB\n",
      "None\n",
      "\n",
      "age           int64\n",
      "sex          object\n",
      "bmi         float64\n",
      "children      int64\n",
      "smoker       object\n",
      "region       object\n",
      "charges     float64\n",
      "dtype: object\n",
      "\n",
      "   age     sex     bmi  children smoker     region      charges\n",
      "0   19  female  27.900         0    yes  southwest  16884.92400\n",
      "1   18    male  33.770         1     no  southeast   1725.55230\n",
      "2   28    male  33.000         3     no  southeast   4449.46200\n",
      "3   33    male  22.705         0     no  northwest  21984.47061\n",
      "4   32    male  28.880         0     no  northwest   3866.85520\n",
      "\n",
      "age         0\n",
      "sex         0\n",
      "bmi         0\n",
      "children    0\n",
      "smoker      0\n",
      "region      0\n",
      "charges     0\n",
      "dtype: int64\n"
     ]
    }
   ],
   "source": [
    "#REGRESSION\n",
    "import pandas as pd\n",
    "import numpy as np\n",
    "from sklearn.linear_model import LinearRegression\n",
    "from sklearn.preprocessing import PolynomialFeatures\n",
    "from sklearn.tree import DecisionTreeRegressor\n",
    "from sklearn.ensemble import RandomForestRegressor\n",
    "from sklearn.metrics import r2_score,mean_absolute_error,mean_squared_error\n",
    "\n",
    "#dataset okuma ve Veri hazırlık\n",
    "df=pd.read_csv(\"insurance.csv\",sep=\";\")\n",
    "print(df.info())\n",
    "print(\"\")\n",
    "print(df.dtypes)\n",
    "print(\"\")\n",
    "print(df.head())\n",
    "print(\"\")\n",
    "print(df.isnull().sum()) "
   ]
  },
  {
   "cell_type": "code",
   "execution_count": 27,
   "metadata": {},
   "outputs": [
    {
     "name": "stdout",
     "output_type": "stream",
     "text": [
      "['southwest' 'southeast' 'northwest' 'northeast']\n",
      "\n",
      "<class 'pandas.core.frame.DataFrame'>\n",
      "RangeIndex: 1338 entries, 0 to 1337\n",
      "Data columns (total 7 columns):\n",
      " #   Column    Non-Null Count  Dtype  \n",
      "---  ------    --------------  -----  \n",
      " 0   age       1338 non-null   int64  \n",
      " 1   sex       1338 non-null   int64  \n",
      " 2   bmi       1338 non-null   float64\n",
      " 3   children  1338 non-null   int64  \n",
      " 4   smoker    1338 non-null   int64  \n",
      " 5   region    1338 non-null   object \n",
      " 6   charges   1338 non-null   float64\n",
      "dtypes: float64(2), int64(4), object(1)\n",
      "memory usage: 73.3+ KB\n",
      "None\n",
      "      age  sex     bmi  children  smoker region      charges\n",
      "0      19    2  27.900         0       1      3  16884.92400\n",
      "1      18    1  33.770         1       2      2   1725.55230\n",
      "2      28    1  33.000         3       2      2   4449.46200\n",
      "3      33    1  22.705         0       2      1  21984.47061\n",
      "4      32    1  28.880         0       2      1   3866.85520\n",
      "...   ...  ...     ...       ...     ...    ...          ...\n",
      "1333   50    1  30.970         3       2      1  10600.54830\n",
      "1334   18    2  31.920         0       2      0   2205.98080\n",
      "1335   18    2  36.850         0       2      2   1629.83350\n",
      "1336   21    2  25.800         0       2      3   2007.94500\n",
      "1337   61    2  29.070         0       1      1  29141.36030\n",
      "\n",
      "[1338 rows x 7 columns]\n"
     ]
    }
   ],
   "source": [
    "print(df.region.unique())\n",
    "print(\"\")\n",
    "\n",
    "df.sex=[1 if i ==\"male\" else 2 for i in df.sex]\n",
    "df.smoker=[1 if i ==\"yes\" else 2 for i in df.smoker]\n",
    "\n",
    "\n",
    "say=0\n",
    "for i in df[\"region\"]:\n",
    "    if i==\"northeast\":\n",
    "         df.loc[say,\"region\"]=0\n",
    "    elif i==\"northwest\":\n",
    "         df.loc[say,\"region\"]=1\n",
    "    elif i==\"southeast\":\n",
    "         df.loc[say,\"region\"]=2\n",
    "    elif i==\"southwest\":\n",
    "         df.loc[say,\"region\"]=3\n",
    "    say+=1                           \n",
    "\n",
    "print(df.info())\n",
    "print(df)\n"
   ]
  },
  {
   "cell_type": "code",
   "execution_count": 28,
   "metadata": {},
   "outputs": [
    {
     "name": "stdout",
     "output_type": "stream",
     "text": [
      "age         int32\n",
      "sex         int32\n",
      "bmi         int32\n",
      "children    int32\n",
      "smoker      int32\n",
      "region      int32\n",
      "charges     int32\n",
      "dtype: object\n",
      "   age  sex  bmi  children  smoker  region  charges\n",
      "0   19    2   27         0       1       3    16884\n",
      "1   18    1   33         1       2       2     1725\n",
      "2   28    1   33         3       2       2     4449\n",
      "3   33    1   22         0       2       1    21984\n",
      "4   32    1   28         0       2       1     3866\n",
      "\n",
      "0       False\n",
      "1       False\n",
      "2       False\n",
      "3       False\n",
      "4       False\n",
      "        ...  \n",
      "1333    False\n",
      "1334    False\n",
      "1335    False\n",
      "1336    False\n",
      "1337    False\n",
      "Length: 1338, dtype: bool\n"
     ]
    }
   ],
   "source": [
    "donusum = {\"age\": int, \n",
    "           \"sex\": int,\n",
    "           \"bmi\":int,\n",
    "           \"smoker\":int,\n",
    "           \"charges\":int,\n",
    "           \"children\":int,\n",
    "          \"region\":int} \n",
    "df=df.astype(donusum)\n",
    "print(df.dtypes)\n",
    "\n",
    "print(df.head())\n",
    "print(\"\")\n",
    "print(df.duplicated()) "
   ]
  },
  {
   "cell_type": "code",
   "execution_count": 29,
   "metadata": {},
   "outputs": [
    {
     "name": "stdout",
     "output_type": "stream",
     "text": [
      "13269.928998505231\n",
      "12110.012754933357\n",
      "9381.5\n",
      "\n",
      "[0.29854818 0.95369393 0.728672   ... 0.96162422 0.93039871 1.31106429]\n",
      "(array([   9,   11,   14,   19,   22,   23,   29,   30,   34,   38,   39,\n",
      "         49,   53,   55,   57,   62,   82,   84,   86,   92,   94,  103,\n",
      "        109,  115,  123,  128,  138,  140,  146,  158,  161,  175,  185,\n",
      "        194,  203,  223,  240,  242,  244,  251,  252,  254,  256,  259,\n",
      "        263,  265,  271,  281,  288,  289,  292,  298,  312,  314,  322,\n",
      "        327,  328,  330,  338,  373,  377,  379,  381,  387,  419,  420,\n",
      "        421,  422,  441,  442,  443,  444,  474,  475,  476,  488,  500,\n",
      "        503,  516,  520,  524,  530,  539,  543,  549,  558,  569,  573,\n",
      "        577,  587,  599,  607,  609,  615,  618,  621,  623,  629,  641,\n",
      "        658,  663,  664,  665,  667,  668,  674,  677,  682,  688,  689,\n",
      "        696,  697,  706,  725,  736,  738,  739,  742,  759,  770,  781,\n",
      "        803,  806,  808,  819,  826,  828,  842,  843,  845,  850,  852,\n",
      "        856,  860,  866,  876,  883,  886,  890,  893,  901,  911,  917,\n",
      "        936,  940,  947,  951,  953,  956,  958,  959,  964,  980,  987,\n",
      "       1001, 1012, 1019, 1021, 1022, 1031, 1036, 1037, 1042, 1047, 1049,\n",
      "       1062, 1070, 1078, 1090, 1093, 1096, 1111, 1117, 1118, 1120, 1122,\n",
      "       1124, 1139, 1142, 1146, 1152, 1156, 1186, 1196, 1206, 1207, 1218,\n",
      "       1223, 1230, 1240, 1241, 1244, 1249, 1258, 1265, 1267, 1284, 1288,\n",
      "       1291, 1300, 1301, 1303, 1308, 1313, 1317, 1321, 1323, 1337],\n",
      "      dtype=int64),)\n"
     ]
    }
   ],
   "source": [
    "print(df[\"charges\"].mean())\n",
    "print(df[\"charges\"].std())\n",
    "print(np.median(df[\"charges\"]))\n",
    "\n",
    "print(\"\")\n",
    "\n",
    "from scipy import stats\n",
    "z=np.abs(stats.zscore(df[\"charges\"]))\n",
    "print(z)\n",
    "print(np.where(z>1)) \n",
    "\n"
   ]
  },
  {
   "cell_type": "code",
   "execution_count": 30,
   "metadata": {},
   "outputs": [],
   "source": [
    " df.drop([9,   11,   14,   19,   22,   23,   29,   30,   34,   38,   39,\n",
    "         49,   53,   55,   57,   62,   82,   84,   86,   92,   94,  103,\n",
    "        109,  115,  123,  128,  138,  140,  146,  158,  161,  175,  185,\n",
    "        194,  203,  223,  240,  242,  244,  251,  252,  254,  256,  259,\n",
    "        263,  265,  271,  281,  288,  289,  292,  298,  312,  314,  322,\n",
    "        327,  328,  330,  338,  373,  377,  379,  381,  387,  419,  420,\n",
    "        421,  422,  441,  442,  443,  444,  474,  475,  476,  488,  500,\n",
    "        503,  516,  520,  524,  530,  539,  543,  549,  558,  569,  573,\n",
    "        577,  587,  599,  607,  609,  615,  618,  621,  623,  629,  641,\n",
    "        658,  663,  664,  665,  667,  668,  674,  677,  682,  688,  689,\n",
    "        696,  697,  706,  725,  736,  738,  739,  742,  759,  770,  781,\n",
    "        803,  806,  808,  819,  826,  828,  842,  843,  845,  850,  852,\n",
    "        856,  860,  866,  876,  883,  886,  890,  893,  901,  911,  917,\n",
    "        936,  940,  947,  951,  953,  956,  958,  959,  964,  980,  987,\n",
    "       1001, 1012, 1019, 1021, 1022, 1031, 1036, 1037, 1042, 1047, 1049,\n",
    "       1062, 1070, 1078, 1090, 1093, 1096, 1111, 1117, 1118, 1120, 1122,\n",
    "       1124, 1139, 1142, 1146, 1152, 1156, 1186, 1196, 1206, 1207, 1218,\n",
    "       1223, 1230, 1240, 1241, 1244, 1249, 1258, 1265, 1267, 1284, 1288,\n",
    "       1291, 1300, 1301, 1303, 1308, 1313, 1317, 1321, 1323, 1337],axis=0,inplace=True)"
   ]
  },
  {
   "cell_type": "code",
   "execution_count": 31,
   "metadata": {},
   "outputs": [
    {
     "name": "stdout",
     "output_type": "stream",
     "text": [
      "8986.603539823009\n",
      "5809.116549702715\n",
      "8060.5\n"
     ]
    }
   ],
   "source": [
    "print(df[\"charges\"].mean())\n",
    "print(df[\"charges\"].std())\n",
    "print(np.median(df[\"charges\"]))"
   ]
  },
  {
   "cell_type": "code",
   "execution_count": 32,
   "metadata": {},
   "outputs": [],
   "source": [
    "y=df.charges.values\n",
    "x_data=df.drop([\"charges\"],axis=1)\n",
    "\n",
    "#x=x_data\n",
    "\n",
    "x=(x_data-np.min(x_data))/(np.max(x_data)-np.min(x_data))"
   ]
  },
  {
   "cell_type": "code",
   "execution_count": 33,
   "metadata": {},
   "outputs": [
    {
     "name": "stdout",
     "output_type": "stream",
     "text": [
      "mlr: r2: 0.6704046387295501 mae: 1706.1657835310068\n",
      "lr_po: r2: 0.7015189966879563 mae: 1485.5321946850518\n",
      "dt: r2: 0.987092896247808 mse: mae: 58.286725663716815\n",
      "rf: r2: 0.9351156646103281 mse: mae: 678.8327898897318\n"
     ]
    }
   ],
   "source": [
    "#Multiple linear regression\n",
    "\n",
    "mlr=LinearRegression()\n",
    "mlr.fit(x,y)\n",
    "mlr_pred=mlr.predict(x)\n",
    "\n",
    "#Polynomial linear regression\n",
    "\n",
    "plr=PolynomialFeatures(degree=3)\n",
    "x_pol=plr.fit_transform(x)\n",
    "\n",
    "lr_pol=LinearRegression()\n",
    "lr_pol.fit(x_pol,y)\n",
    "pol_pred=lr_pol.predict(x_pol)\n",
    "\n",
    "#Decision tree\n",
    "\n",
    "dt=DecisionTreeRegressor(random_state=0)\n",
    "dt.fit(x,y)\n",
    "dt_pred=dt.predict(x)\n",
    "\n",
    "#Random forest\n",
    "\n",
    "rf=RandomForestRegressor(n_estimators=100,random_state=0)\n",
    "rf.fit(x,y.ravel())\n",
    "rf_pred=rf.predict(x)\n",
    "\n",
    "\n",
    "# Regression değerlendirme\n",
    "print(\"mlr:\",\"r2:\",r2_score(y,mlr_pred),\"mae:\",mean_absolute_error(y,mlr_pred))\n",
    "print(\"lr_po:\",\"r2:\",r2_score(y,pol_pred),\"mae:\",mean_absolute_error(y,pol_pred))\n",
    "print(\"dt:\",\"r2:\",r2_score(y,dt_pred),\"mse:\",\"mae:\",mean_absolute_error(y,dt_pred))\n",
    "print(\"rf:\",\"r2:\",r2_score(y,rf_pred),\"mse:\",\"mae:\",mean_absolute_error(y,rf_pred))"
   ]
  },
  {
   "cell_type": "code",
   "execution_count": null,
   "metadata": {},
   "outputs": [],
   "source": []
  },
  {
   "cell_type": "code",
   "execution_count": 34,
   "metadata": {},
   "outputs": [
    {
     "name": "stdout",
     "output_type": "stream",
     "text": [
      "mlr: r2 0.6746266356549582 mae: 1696.6321974960717\n",
      "lr_po: r2 0.6577047265866232 mae: 1624.1869975701286\n",
      "dt: r2 0.2615122715568132 mae: 2102.4314159292035\n",
      "rf: r2 0.6218929462460534 mae: 1688.2428253265907\n"
     ]
    }
   ],
   "source": [
    "#ugur fit durumu ustuna gelmek\n",
    "from sklearn.model_selection import train_test_split\n",
    "x_train, x_test,y_train,y_test=train_test_split(x,y,test_size=0.2,random_state=42)\n",
    "\n",
    "mlr=LinearRegression()\n",
    "mlr.fit(x_train,y_train)\n",
    "mlr_pred=mlr.predict(x_test)\n",
    "\n",
    "\n",
    "plr=PolynomialFeatures(degree=3)\n",
    "x_pol=plr.fit_transform(x_train)\n",
    "x_poly=plr.fit_transform(x_test)\n",
    "\n",
    "lr_pol=LinearRegression()\n",
    "lr_pol.fit(x_pol,y_train)\n",
    "pol_pred=lr_pol.predict(x_poly)\n",
    "\n",
    "\n",
    "dt=DecisionTreeRegressor(random_state=0)\n",
    "dt.fit(x_train,y_train)\n",
    "dt_pred=dt.predict(x_test)\n",
    "\n",
    "\n",
    "rf=RandomForestRegressor(n_estimators=100,random_state=0)\n",
    "rf.fit(x_train,y_train.ravel())\n",
    "rf_pred=rf.predict(x_test)\n",
    "\n",
    "\n",
    "print(\"mlr:\",\"r2\",r2_score(y_test,mlr_pred),\"mae:\",mean_absolute_error(y_test,mlr_pred))\n",
    "print(\"lr_po:\",\"r2\",r2_score(y_test,pol_pred),\"mae:\",mean_absolute_error(y_test,pol_pred))\n",
    "print(\"dt:\",\"r2\",r2_score(y_test,dt_pred),\"mae:\",mean_absolute_error(y_test,dt_pred))\n",
    "print(\"rf:\",\"r2\",r2_score(y_test,rf_pred),\"mae:\",mean_absolute_error(y_test,rf_pred))"
   ]
  },
  {
   "cell_type": "code",
   "execution_count": null,
   "metadata": {},
   "outputs": [],
   "source": []
  }
 ],
 "metadata": {
  "kernelspec": {
   "display_name": "Python 3",
   "language": "python",
   "name": "python3"
  },
  "language_info": {
   "codemirror_mode": {
    "name": "ipython",
    "version": 3
   },
   "file_extension": ".py",
   "mimetype": "text/x-python",
   "name": "python",
   "nbconvert_exporter": "python",
   "pygments_lexer": "ipython3",
   "version": "3.8.3"
  }
 },
 "nbformat": 4,
 "nbformat_minor": 4
}
